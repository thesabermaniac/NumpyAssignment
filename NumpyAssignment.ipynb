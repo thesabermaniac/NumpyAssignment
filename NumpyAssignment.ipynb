{
  "nbformat": 4,
  "nbformat_minor": 0,
  "metadata": {
    "colab": {
      "name": "NumpyAssignment.ipynb",
      "provenance": []
    },
    "kernelspec": {
      "name": "python3",
      "display_name": "Python 3"
    },
    "language_info": {
      "name": "python"
    }
  },
  "cells": [
    {
      "cell_type": "markdown",
      "metadata": {
        "id": "mk0fWF-bVTUp"
      },
      "source": [
        "### 1. Write a Python/Numpy code block that finds the distinct/unique common items between these two arrays:\n",
        "\n",
        "\n",
        "\n",
        "```\n",
        "a = np.array([1, 2, 3, 2, 3, 4, 3, 4, 5, 6])\n",
        "b = np.array([7, 2, 10, 2, 7, 4, 9, 4, 9, 8])\n",
        "```\n",
        "\n",
        "Your output should contain only the distinct overlapping values. For example, if a 2 is found in both array ​__a__ ​and array ​__b__​, your output should contain only one 2 even if array ​__a__ ​contains more than one 2 within it.\n",
        "\n"
      ]
    },
    {
      "cell_type": "code",
      "metadata": {
        "colab": {
          "base_uri": "https://localhost:8080/"
        },
        "id": "yqajN5bXVPK_",
        "outputId": "b9b9208e-3e48-462b-9d01-8f01f528e20f"
      },
      "source": [
        "import numpy as np\n",
        "\n",
        "a = np.array([1, 2, 3, 2, 3, 4, 3, 4, 5, 6])\n",
        "b = np.array([7, 2, 10, 2, 7, 4, 9, 4, 9, 8])\n",
        "\n",
        "print(np.intersect1d(a, b))"
      ],
      "execution_count": 35,
      "outputs": [
        {
          "output_type": "stream",
          "text": [
            "[2 4]\n"
          ],
          "name": "stdout"
        }
      ]
    },
    {
      "cell_type": "markdown",
      "metadata": {
        "id": "VvJmgKcHWgD0"
      },
      "source": [
        "### 2. Create the following 5x3 array using knowledge you have of Python’s / NumPy’s sequencing functionality so that you do not need to explicitly key in every integer value.\n",
        "\n",
        "|      |      |      |\n",
        "| :--: | :--: | :--: |\n",
        "| 1    | 6    | 11   |\n",
        "| 2    | 7    | 12   | \n",
        "| 3    | 8    | 13   |\n",
        "| 4    | 9    | 14   |\n",
        "| 5    | 10   | 15   | "
      ]
    },
    {
      "cell_type": "code",
      "metadata": {
        "colab": {
          "base_uri": "https://localhost:8080/"
        },
        "id": "2ECLkK5IYBTE",
        "outputId": "16ee9246-05ed-4f7c-97dc-0667feac520e"
      },
      "source": [
        "array = np.arange(1, 16).reshape(3, 5)\n",
        "array = np.transpose(array)\n",
        "array"
      ],
      "execution_count": 36,
      "outputs": [
        {
          "output_type": "execute_result",
          "data": {
            "text/plain": [
              "array([[ 1,  6, 11],\n",
              "       [ 2,  7, 12],\n",
              "       [ 3,  8, 13],\n",
              "       [ 4,  9, 14],\n",
              "       [ 5, 10, 15]])"
            ]
          },
          "metadata": {
            "tags": []
          },
          "execution_count": 36
        }
      ]
    },
    {
      "cell_type": "markdown",
      "metadata": {
        "id": "hs8GODINar35"
      },
      "source": [
        "### 3. The process of transforming a multidimensional array into a unidimensional array is referred to as“flattening”. Transform the 5x3 array shown above in Problem 2 into a unidimensional array such that the sequence of values contained within the array is as follows: 1, 2, 3, 4, 5, 6, 7, 8, 9, 10, 11, 12, 13, 14, 15"
      ]
    },
    {
      "cell_type": "code",
      "metadata": {
        "colab": {
          "base_uri": "https://localhost:8080/"
        },
        "id": "XppYxCShazWC",
        "outputId": "e5f7362d-96e7-4c7e-85c3-7ef02fbcc5e6"
      },
      "source": [
        "flattened_array = np.transpose(array).flatten()\n",
        "flattened_array"
      ],
      "execution_count": 37,
      "outputs": [
        {
          "output_type": "execute_result",
          "data": {
            "text/plain": [
              "array([ 1,  2,  3,  4,  5,  6,  7,  8,  9, 10, 11, 12, 13, 14, 15])"
            ]
          },
          "metadata": {
            "tags": []
          },
          "execution_count": 37
        }
      ]
    },
    {
      "cell_type": "markdown",
      "metadata": {
        "id": "zucX8CAIbx_a"
      },
      "source": [
        "### 4. Transform the 2-D array shown in Problem 2 into a 3 dimensional array such that the first column becomes the first dimension of the 3-D array, the second column becomes the second dimension of the 3-D array, and the third column becomes the third dimension of the 3-D array"
      ]
    },
    {
      "cell_type": "code",
      "metadata": {
        "colab": {
          "base_uri": "https://localhost:8080/"
        },
        "id": "kfGrJsbxb8h2",
        "outputId": "9238470b-106d-4536-cfe2-f79d88aa66cc"
      },
      "source": [
        "array_3d = np.transpose(array).reshape(3, 5, -1)\n",
        "array_3d"
      ],
      "execution_count": 38,
      "outputs": [
        {
          "output_type": "execute_result",
          "data": {
            "text/plain": [
              "array([[[ 1],\n",
              "        [ 2],\n",
              "        [ 3],\n",
              "        [ 4],\n",
              "        [ 5]],\n",
              "\n",
              "       [[ 6],\n",
              "        [ 7],\n",
              "        [ 8],\n",
              "        [ 9],\n",
              "        [10]],\n",
              "\n",
              "       [[11],\n",
              "        [12],\n",
              "        [13],\n",
              "        [14],\n",
              "        [15]]])"
            ]
          },
          "metadata": {
            "tags": []
          },
          "execution_count": 38
        }
      ]
    },
    {
      "cell_type": "markdown",
      "metadata": {
        "id": "TlPnKwd9dat1"
      },
      "source": [
        "### 5. Transform the 3-D array you created in Problem 4 back to the 2-dimensional format shown in Problem 2"
      ]
    },
    {
      "cell_type": "code",
      "metadata": {
        "colab": {
          "base_uri": "https://localhost:8080/"
        },
        "id": "HfzEdNEkdfzK",
        "outputId": "639aed97-0866-444a-9338-36ac42b75b80"
      },
      "source": [
        "array = np.transpose(array_3d.reshape(3, 5))\n",
        "array"
      ],
      "execution_count": 39,
      "outputs": [
        {
          "output_type": "execute_result",
          "data": {
            "text/plain": [
              "array([[ 1,  6, 11],\n",
              "       [ 2,  7, 12],\n",
              "       [ 3,  8, 13],\n",
              "       [ 4,  9, 14],\n",
              "       [ 5, 10, 15]])"
            ]
          },
          "metadata": {
            "tags": []
          },
          "execution_count": 39
        }
      ]
    },
    {
      "cell_type": "markdown",
      "metadata": {
        "id": "bIDRAJgBeGbD"
      },
      "source": [
        "### 6. You are given the following two arrays:\n",
        "\n",
        "\n",
        "\n",
        "```\n",
        "a = np.array([12, 5, 7, 15, 3, 1, 8])\n",
        "b = np.array([14, 6, 3, 11, 19, 12, 5])\n",
        "\n",
        "```\n",
        "\n",
        "Write a Python/Numpy code block that removes from array ​__a__ ​any items that are also present in array __b__\n",
        "\n"
      ]
    },
    {
      "cell_type": "code",
      "metadata": {
        "colab": {
          "base_uri": "https://localhost:8080/"
        },
        "id": "YiJIRU5SeXsh",
        "outputId": "98a5cb73-c2be-40dc-e2c2-5a28a4d6d88c"
      },
      "source": [
        "a = np.array([12, 5, 7, 15, 3, 1, 8])\n",
        "b = np.array([14, 6, 3, 11, 19, 12, 5])\n",
        "a = np.array([n for n in a if n not in b])\n",
        "print(a)"
      ],
      "execution_count": 40,
      "outputs": [
        {
          "output_type": "stream",
          "text": [
            "[ 7 15  1  8]\n"
          ],
          "name": "stdout"
        }
      ]
    },
    {
      "cell_type": "markdown",
      "metadata": {
        "id": "hWsSKgIVgjHk"
      },
      "source": [
        "### 7. ​For this problem you will load a small data set to your online GitHub repository and then read it into a NumPy 2D array. You will then use the content that NumPy array to answer a series of analytical questions."
      ]
    },
    {
      "cell_type": "code",
      "metadata": {
        "colab": {
          "base_uri": "https://localhost:8080/"
        },
        "id": "KV1c3LrSC26_",
        "outputId": "95d59b5a-7ce0-4d22-a2ae-acc3fc5af648"
      },
      "source": [
        "import pandas\n",
        "\n",
        "# supress scientific notation\n",
        "np.set_printoptions(suppress = True)\n",
        "\n",
        "# read the data file from GitHub and convert to a NumPy ndarray object\n",
        "nyc_water = pandas.read_csv('https://raw.githubusercontent.com/thesabermaniac/NumpyAssignment/main/cityData.csv').to_numpy()\n",
        "\n",
        "# verify you have an ndarray object\n",
        "type(nyc_water)"
      ],
      "execution_count": 41,
      "outputs": [
        {
          "output_type": "execute_result",
          "data": {
            "text/plain": [
              "numpy.ndarray"
            ]
          },
          "metadata": {
            "tags": []
          },
          "execution_count": 41
        }
      ]
    },
    {
      "cell_type": "markdown",
      "metadata": {
        "id": "uqZ5C6JzDgbh"
      },
      "source": [
        "#### What is the maximum yearly NYC consumption of water in millions of gallons per day?"
      ]
    },
    {
      "cell_type": "code",
      "metadata": {
        "colab": {
          "base_uri": "https://localhost:8080/"
        },
        "id": "TmiRrxxpDiUc",
        "outputId": "e0414757-8563-4a23-e1da-8bc61b6a7ce7"
      },
      "source": [
        "max_gpd = np.max(nyc_water[:,2], axis=0)\n",
        "max_gpd"
      ],
      "execution_count": 61,
      "outputs": [
        {
          "output_type": "execute_result",
          "data": {
            "text/plain": [
              "1512.0"
            ]
          },
          "metadata": {
            "tags": []
          },
          "execution_count": 61
        }
      ]
    },
    {
      "cell_type": "markdown",
      "metadata": {
        "id": "cFMHV4FDEcQI"
      },
      "source": [
        "The max yearly consumption of water in nyc is 1,512 million gallons per day (or 1,512,000,000)"
      ]
    },
    {
      "cell_type": "markdown",
      "metadata": {
        "id": "-8t0DGlWEWpG"
      },
      "source": [
        "#### How many calendar years are represented within this data set? NumPy's ​shape ​command is one way to find out."
      ]
    },
    {
      "cell_type": "code",
      "metadata": {
        "colab": {
          "base_uri": "https://localhost:8080/"
        },
        "id": "5u5HTSRrEzqc",
        "outputId": "f4e662ac-a272-4b15-aa0f-0d8a42e7f2d9"
      },
      "source": [
        "num_of_years = nyc_water[:,0].max() - nyc_water[:,0].min()\n",
        "num_of_years"
      ],
      "execution_count": 63,
      "outputs": [
        {
          "output_type": "execute_result",
          "data": {
            "text/plain": [
              "38.0"
            ]
          },
          "metadata": {
            "tags": []
          },
          "execution_count": 63
        }
      ]
    },
    {
      "cell_type": "markdown",
      "metadata": {
        "id": "OisTU8pBE6zQ"
      },
      "source": [
        "There are 38 years represented in the dataset"
      ]
    },
    {
      "cell_type": "markdown",
      "metadata": {
        "id": "DrG2uruXFYB0"
      },
      "source": [
        "#### What is the mean and the standard deviation of the per capita daily water consumption?"
      ]
    },
    {
      "cell_type": "code",
      "metadata": {
        "colab": {
          "base_uri": "https://localhost:8080/"
        },
        "id": "TWnLue5YFaXr",
        "outputId": "47ac2cb6-18b5-4e32-ee67-01acddb11240"
      },
      "source": [
        "mean_per_capita_water = nyc_water[:,3].mean()\n",
        "print(mean_per_capita_water)\n",
        "\n",
        "std_per_capita_water = nyc_water[:,3].std()\n",
        "print(std_per_capita_water)"
      ],
      "execution_count": 65,
      "outputs": [
        {
          "output_type": "stream",
          "text": [
            "160.30769230769232\n",
            "31.51894330370624\n"
          ],
          "name": "stdout"
        }
      ]
    },
    {
      "cell_type": "markdown",
      "metadata": {
        "id": "ADqfG6cQF5y2"
      },
      "source": [
        "Mean = 160.308\n",
        "\n",
        "Standard Deviation = 31.519"
      ]
    },
    {
      "cell_type": "markdown",
      "metadata": {
        "id": "QEcG6jLyGCb0"
      },
      "source": [
        "#### What is the increase or decrease in population from year to year? Use NumPy's `​diff` ​function to create an array  of differences and save that to a variable called \"​pop_diff​\", then print that variable to the screen."
      ]
    },
    {
      "cell_type": "code",
      "metadata": {
        "colab": {
          "base_uri": "https://localhost:8080/"
        },
        "id": "2EIxjpHlGdTY",
        "outputId": "22d5c911-018f-45be-d49e-d55935a9e587"
      },
      "source": [
        "np.diff(nyc_water[:, 1], axis=0)"
      ],
      "execution_count": 60,
      "outputs": [
        {
          "output_type": "execute_result",
          "data": {
            "text/plain": [
              "array([-30461. ,  17602. ,  19864. ,  72119. ,  53290. ,  39540. ,\n",
              "        45192. ,  23230. ,  11243. ,  -9544. ,  -8525. ,  38851. ,\n",
              "        54443. ,  77222. ,  64292. ,  62582. ,  64772. ,  75631. ,\n",
              "        84816. ,  89401. ,  60618. ,  16685.5,  16685.5,  16685.5,\n",
              "        16685.5,  16685.5,  16685.5,  16685.5,  16685.5,  16685.5,\n",
              "        16685.5, 108965. ,  77081. ,  61281. ,  49530. ,  44512. ,\n",
              "        21171. ,  85025. ])"
            ]
          },
          "metadata": {
            "tags": []
          },
          "execution_count": 60
        }
      ]
    }
  ]
}